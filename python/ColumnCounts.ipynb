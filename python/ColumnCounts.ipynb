{
 "cells": [
  {
   "cell_type": "code",
   "execution_count": 1,
   "metadata": {},
   "outputs": [],
   "source": [
    "import json\n",
    "import os"
   ]
  },
  {
   "cell_type": "markdown",
   "metadata": {},
   "source": [
    "Gets unique columns and total number of columns."
   ]
  },
  {
   "cell_type": "code",
   "execution_count": 2,
   "metadata": {},
   "outputs": [],
   "source": [
    "def get_info(levels):\n",
    "    unique_columns = set()\n",
    "    column_count = 0\n",
    "    \n",
    "    for level_matrix in levels:\n",
    "        count = len(level_matrix[0])\n",
    "        column_count += count\n",
    "\n",
    "        columns = [[] for i in range(count)]\n",
    "\n",
    "        for row in level_matrix:\n",
    "            for i in range(len(row)):\n",
    "                columns[i].append(row[i])\n",
    "\n",
    "        for c in columns:\n",
    "            unique_columns.add(','.join(c))\n",
    "\n",
    "    print(f'Unique Columns: {len(unique_columns)}')\n",
    "    print(f'Columns: {column_count}')"
   ]
  },
  {
   "cell_type": "markdown",
   "metadata": {},
   "source": [
    "Builds level matrix by column for each file found in path that isn't a metadata file."
   ]
  },
  {
   "cell_type": "code",
   "execution_count": 3,
   "metadata": {},
   "outputs": [],
   "source": [
    "def get_file_contents(path):\n",
    "    levels = []\n",
    "    for file_name in os.listdir(path):\n",
    "        if 'meta' in file_name:\n",
    "            continue\n",
    "\n",
    "        file_path = os.path.join(path, file_name)\n",
    "        if os.path.isdir(file_path):\n",
    "            continue\n",
    "\n",
    "        f = open(file_path)\n",
    "        content = f.read()\n",
    "        f.close()\n",
    "\n",
    "        levels.append(json.loads(content))\n",
    "\n",
    "    return levels"
   ]
  },
  {
   "cell_type": "markdown",
   "metadata": {},
   "source": [
    "### Custom Levels"
   ]
  },
  {
   "cell_type": "code",
   "execution_count": 4,
   "metadata": {},
   "outputs": [
    {
     "name": "stdout",
     "output_type": "stream",
     "text": [
      "Unique Columns: 231\n",
      "Columns: 868\n"
     ]
    }
   ],
   "source": [
    "created = get_file_contents(os.path.join('..', 'Assets', 'Resources', 'Levels'))\n",
    "get_info(created)"
   ]
  },
  {
   "cell_type": "markdown",
   "metadata": {},
   "source": [
    "### VGLC"
   ]
  },
  {
   "cell_type": "code",
   "execution_count": 5,
   "metadata": {},
   "outputs": [
    {
     "name": "stdout",
     "output_type": "stream",
     "text": [
      "Unique Columns: 210\n",
      "Columns: 2938\n"
     ]
    }
   ],
   "source": [
    "mar = get_file_contents(os.path.join('..', 'Assets', 'Resources', 'Levels', 'SuperMarioBros'))\n",
    "get_info(mar)"
   ]
  },
  {
   "cell_type": "markdown",
   "metadata": {},
   "source": [
    "### Custom and VGLC"
   ]
  },
  {
   "cell_type": "code",
   "execution_count": 6,
   "metadata": {},
   "outputs": [
    {
     "name": "stdout",
     "output_type": "stream",
     "text": [
      "Unique Columns: 441\n",
      "Columns: 3806\n"
     ]
    }
   ],
   "source": [
    "levels = created.copy()\n",
    "levels.extend(mar)\n",
    "get_info(levels)"
   ]
  }
 ],
 "metadata": {
  "kernelspec": {
   "display_name": "Python 3",
   "language": "python",
   "name": "python3"
  },
  "language_info": {
   "codemirror_mode": {
    "name": "ipython",
    "version": 3
   },
   "file_extension": ".py",
   "mimetype": "text/x-python",
   "name": "python",
   "nbconvert_exporter": "python",
   "pygments_lexer": "ipython3",
   "version": "3.7.7"
  }
 },
 "nbformat": 4,
 "nbformat_minor": 4
}

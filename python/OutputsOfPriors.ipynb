{
 "cells": [
  {
   "cell_type": "code",
   "execution_count": 1,
   "metadata": {},
   "outputs": [],
   "source": [
    "%matplotlib inline\n",
    "import matplotlib.pyplot as plt\n",
    "import json\n",
    "import os"
   ]
  },
  {
   "cell_type": "markdown",
   "metadata": {},
   "source": [
    "This generates an n-gram. It receives an n which specifies the n in n-gram. It also receives an array called levels which contains the level matrix separated by columns."
   ]
  },
  {
   "cell_type": "code",
   "execution_count": 2,
   "metadata": {},
   "outputs": [],
   "source": [
    "def build_n_gram(n, levels):\n",
    "    ngram = {}\n",
    "    \n",
    "    for level_matrix in levels:\n",
    "        columns = [[] for i in range(len(level_matrix[0]))]\n",
    "\n",
    "        for row in level_matrix:\n",
    "            for i in range(len(row)):\n",
    "                columns[i].append(row[i])\n",
    "\n",
    "        prior = []\n",
    "        for col in columns:\n",
    "            json_col = json.dumps(col)\n",
    "            if len(prior) == n - 1:\n",
    "                json_prior = json.dumps(prior)\n",
    "                \n",
    "                if json_prior not in ngram:\n",
    "                    ngram[json_prior] = {}\n",
    "                    ngram[json_prior][json_col] = 1\n",
    "                elif json_col not in ngram[json_prior]:\n",
    "                    ngram[json_prior][json_col] = 1\n",
    "                else:\n",
    "                    ngram[json_prior][json_col] += 1\n",
    "                \n",
    "                prior.pop(0)\n",
    "\n",
    "            prior.append(col)\n",
    "\n",
    "    return ngram"
   ]
  },
  {
   "cell_type": "markdown",
   "metadata": {},
   "source": [
    "This sets the min and max n that will be displayed in the histogram. It receives an array of levels and with it, it builds the n-grams and generates a histogram that uses each n-gram. Right now it is hardcoded for each n as can be seen by the variables for colors and labels."
   ]
  },
  {
   "cell_type": "code",
   "execution_count": 6,
   "metadata": {},
   "outputs": [],
   "source": [
    "def build_histogram(levels):\n",
    "    min_n = 2\n",
    "    max_n = 5\n",
    "\n",
    "    colors = ['red', 'blue', 'green']\n",
    "    labels = ['n=2', 'n=3', 'n=4']\n",
    "\n",
    "    # build n-grams\n",
    "    n_grams = []\n",
    "    for n in range(min_n, max_n):\n",
    "        n_grams.append(build_n_gram(n, levels))\n",
    "\n",
    "    # build histogram array and plot results. \n",
    "    max_count = 0\n",
    "    outputs = []\n",
    "    for n_gram in n_grams:\n",
    "        outputs.append([])\n",
    "        for prior in n_gram:\n",
    "            outputs[-1].append(len(n_gram[prior]))\n",
    "            max_count = max(max_count, len(n_gram[prior]))\n",
    "\n",
    "    plt.xlabel(\"Outputs\")\n",
    "    plt.ylabel(\"Priors\")\n",
    "    plt.title(\"Priors with the Same Number of Outputs\")\n",
    "    n, bins, patches = plt.hist(\n",
    "        outputs, \n",
    "        bins=range(1,max_count +1), \n",
    "        alpha=0.5, \n",
    "        edgecolor='black', \n",
    "        linewidth=1.2, \n",
    "        color=colors, \n",
    "        label=labels)\n",
    "    \n",
    "    plt.xticks(range(1, max_count))\n",
    "    plt.xlim(1)\n",
    "    plt.legend()\n",
    "    plt.show()\n",
    "\n",
    "    print(f'2: {len(n_grams[0])}')\n",
    "    print(f'3: {len(n_grams[1])}')\n",
    "    print(f'4: {len(n_grams[2])}')"
   ]
  },
  {
   "cell_type": "markdown",
   "metadata": {},
   "source": [
    "This goes through files in the path it receives level matrices by column for each."
   ]
  },
  {
   "cell_type": "code",
   "execution_count": 7,
   "metadata": {},
   "outputs": [],
   "source": [
    "def get_file_contents(path):\n",
    "    file_contents = []\n",
    "    for file_name in os.listdir(path):\n",
    "        if 'meta' in file_name:\n",
    "            continue\n",
    "        \n",
    "        # read level file in as json\n",
    "        file_path = os.path.join(path, file_name)\n",
    "        if os.path.isdir(file_path):\n",
    "            continue\n",
    "\n",
    "        f = open(file_path)\n",
    "        content = f.read()\n",
    "        f.close()\n",
    "\n",
    "        # convert file to json and into a list of columns\n",
    "        file_contents.append(json.loads(content))\n",
    "    \n",
    "    return file_contents"
   ]
  },
  {
   "cell_type": "markdown",
   "metadata": {},
   "source": [
    "This builds level matrices for the mario levels from the VGLC. In this case we use a modified version that has been converted to JSON, refer to [convert_mario_levels.py](./convert_mario_levels.py) to see how this is accomplished. Another is built using the custom levels for the game. Finally, a combination of the two is also also built."
   ]
  },
  {
   "cell_type": "code",
   "execution_count": 9,
   "metadata": {},
   "outputs": [],
   "source": [
    "super_mario_bros = get_file_contents(os.path.join('..', 'Assets', 'Resources', 'Levels', 'SuperMarioBros'))\n",
    "custom = get_file_contents(os.path.join('..', 'Assets', 'Resources', 'Levels'))\n",
    "both = custom.copy()\n",
    "both.extend(super_mario_bros)"
   ]
  },
  {
   "cell_type": "markdown",
   "metadata": {},
   "source": [
    "### VGLC Histogram"
   ]
  },
  {
   "cell_type": "code",
   "execution_count": 10,
   "metadata": {},
   "outputs": [
    {
     "data": {
      "image/png": "[encoded data removed]",
      "text/plain": [
       "<Figure size 432x288 with 1 Axes>"
      ]
     },
     "metadata": {
      "needs_background": "light"
     },
     "output_type": "display_data"
    },
    {
     "name": "stdout",
     "output_type": "stream",
     "text": [
      "2: 209\n",
      "3: 593\n",
      "4: 979\n"
     ]
    }
   ],
   "source": [
    "build_histogram(super_mario_bros)"
   ]
  },
  {
   "cell_type": "markdown",
   "metadata": {},
   "source": [
    "### Custom Histogram"
   ]
  },
  {
   "cell_type": "code",
   "execution_count": 11,
   "metadata": {},
   "outputs": [
    {
     "data": {
      "image/png": "[encoded data removed]",
      "text/plain": [
       "<Figure size 432x288 with 1 Axes>"
      ]
     },
     "metadata": {
      "needs_background": "light"
     },
     "output_type": "display_data"
    },
    {
     "name": "stdout",
     "output_type": "stream",
     "text": [
      "2: 226\n",
      "3: 406\n",
      "4: 510\n"
     ]
    }
   ],
   "source": [
    "build_histogram(custom)"
   ]
  },
  {
   "cell_type": "markdown",
   "metadata": {},
   "source": [
    "### Combination of Custom and VGLC"
   ]
  },
  {
   "cell_type": "code",
   "execution_count": 12,
   "metadata": {},
   "outputs": [
    {
     "data": {
      "image/png": "[encoded data removed]",
      "text/plain": [
       "<Figure size 432x288 with 1 Axes>"
      ]
     },
     "metadata": {
      "needs_background": "light"
     },
     "output_type": "display_data"
    },
    {
     "name": "stdout",
     "output_type": "stream",
     "text": [
      "2: 435\n",
      "3: 999\n",
      "4: 1489\n"
     ]
    }
   ],
   "source": [
    "build_histogram(both)"
   ]
  },
  {
   "cell_type": "markdown",
   "metadata": {},
   "source": [
    "As can be seen, the mario levels VGLC share no common columns with the custom-made columns (979 + 510 = 1489). Meaning, if we want to take advantage of the extra data than extra work is required for the developer to get them to work together."
   ]
  }
 ],
 "metadata": {
  "kernelspec": {
   "display_name": "Python 3",
   "language": "python",
   "name": "python3"
  },
  "language_info": {
   "codemirror_mode": {
    "name": "ipython",
    "version": 3
   },
   "file_extension": ".py",
   "mimetype": "text/x-python",
   "name": "python",
   "nbconvert_exporter": "python",
   "pygments_lexer": "ipython3",
   "version": "3.7.7"
  }
 },
 "nbformat": 4,
 "nbformat_minor": 4
}

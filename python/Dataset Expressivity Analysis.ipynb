{
 "cells": [
  {
   "cell_type": "markdown",
   "metadata": {},
   "source": [
    "This notebook is going to take you through an analysis of platformer games in the VGLC [1] as well as a custom dataset made for the housed in the repository where this notebook resides. Before going through the details, we are going to read everything in. Each platformer will be read into a [n-gram](https://en.wikipedia.org/wiki/N-gram) based off the previous work from Dahlskog et al. which broke levels into columns as input [2]."
   ]
  },
  {
   "cell_type": "code",
   "execution_count": 1,
   "metadata": {},
   "outputs": [],
   "source": [
    "%matplotlib inline\n",
    "from scipy.stats import mode\n",
    "from pathlib import Path\n",
    "from enum import Enum\n",
    "\n",
    "import matplotlib.pyplot as plt\n",
    "import pandas as pd\n",
    "import numpy as np\n",
    "import json\n",
    "import os"
   ]
  },
  {
   "cell_type": "markdown",
   "metadata": {},
   "source": [
    "We have two cases. The first is the custom format which is a json array. The second is the VGLC format which is a text file, very similar to a JSON array. For both we read htem in and return the contents of the files."
   ]
  },
  {
   "cell_type": "code",
   "execution_count": 2,
   "metadata": {},
   "outputs": [],
   "source": [
    "def read_json(file_path):\n",
    "    f = open(file_path)\n",
    "    content = f.read()\n",
    "    f.close()\n",
    "    \n",
    "    level_matrix = json.loads(content)\n",
    "    columns = [[] for i in range(len(level_matrix[0]))]\n",
    "\n",
    "    for row in level_matrix:\n",
    "        for i in range(len(row)):\n",
    "            columns[i].append(row[i])\n",
    "\n",
    "    return columns"
   ]
  },
  {
   "cell_type": "code",
   "execution_count": 3,
   "metadata": {},
   "outputs": [],
   "source": [
    "def read_txt(file_path, vertical):\n",
    "    f = open(file_path)\n",
    "    lines = f.readlines()\n",
    "    f.close()\n",
    "    \n",
    "    if vertical:\n",
    "        columns = []\n",
    "        for line in reversed(lines):\n",
    "            columns.append(list(line.strip()))\n",
    "    else:\n",
    "        columns = [[] for _ in range(len(lines[0]) - 1)]\n",
    "        for line in lines:\n",
    "            line = line.strip()\n",
    "            for columnIndex in range(len(line)):\n",
    "                columns[columnIndex].insert(0, line[columnIndex])\n",
    "            \n",
    "    return columns"
   ]
  },
  {
   "cell_type": "code",
   "execution_count": 4,
   "metadata": {},
   "outputs": [],
   "source": [
    "def get_file_contents(path, vertical=False, json=False):\n",
    "    file_contents = []\n",
    "    for file_name in os.listdir(path):\n",
    "        if 'meta' in file_name:\n",
    "            continue\n",
    "        \n",
    "        file_path = os.path.join(path, file_name)\n",
    "        if os.path.isdir(file_path):\n",
    "            continue\n",
    "        \n",
    "        if json:\n",
    "            file_contents.append(read_json(file_path))\n",
    "        else:\n",
    "            file_contents.append(read_txt(file_path, vertical))\n",
    "    \n",
    "    return file_contents"
   ]
  },
  {
   "cell_type": "markdown",
   "metadata": {},
   "source": [
    "I have the [VGLC](https://github.com/TheVGLC/TheVGLC) stored in `~/data/TheVGLC`. If you have it somewhere else then you will need to modify the code block below to use the correct path. Also note that there is a vertical flag since [Kid Icarus levels are in a vertical format](https://github.com/TheVGLC/TheVGLC/blob/master/Kid%20Icarus/Processed/kidicarus_1.txt)."
   ]
  },
  {
   "cell_type": "code",
   "execution_count": 5,
   "metadata": {},
   "outputs": [],
   "source": [
    "def get_vglc_path(game_name):\n",
    "    return os.path.join(Path.home(), 'data', 'TheVGLC', game_name, 'Processed')"
   ]
  },
  {
   "cell_type": "code",
   "execution_count": 6,
   "metadata": {},
   "outputs": [],
   "source": [
    "class Game(Enum):\n",
    "    SuperMarioBros = 0\n",
    "    SuperMarioBros2 = 1\n",
    "    SuperMarioBros2Japan = 2\n",
    "    SuperMarioLand = 3\n",
    "    KidIcarus = 4\n",
    "    Custom = 5"
   ]
  },
  {
   "cell_type": "code",
   "execution_count": 7,
   "metadata": {},
   "outputs": [],
   "source": [
    "data = {}\n",
    "data[Game.SuperMarioBros] = get_file_contents(get_vglc_path(\"Super Mario Bros\"))\n",
    "data[Game.SuperMarioBros2Japan] = get_file_contents(get_vglc_path(\"Super Mario Bros 2 (Japan)\"))\n",
    "data[Game.SuperMarioLand] = get_file_contents(get_vglc_path(\"Super Mario Land\"))\n",
    "data[Game.KidIcarus] = get_file_contents(get_vglc_path(\"Kid Icarus\"), vertical=True)\n",
    "data[Game.Custom] = get_file_contents(os.path.join('..', 'Assets', 'Resources', 'Levels'), json=True)\n",
    "\n",
    "path = os.path.join(get_vglc_path(\"Super Mario Bros 2\"), 'WithEnemies')\n",
    "data[Game.SuperMarioBros2] = get_file_contents(path)"
   ]
  },
  {
   "cell_type": "markdown",
   "metadata": {},
   "source": [
    "Now that we have loaded in all the games we are going to build them into n-grams. We'll do n-grams of 2 to 5."
   ]
  },
  {
   "cell_type": "code",
   "execution_count": 8,
   "metadata": {},
   "outputs": [],
   "source": [
    "min_n = 2\n",
    "max_n = 5"
   ]
  },
  {
   "cell_type": "code",
   "execution_count": 9,
   "metadata": {},
   "outputs": [],
   "source": [
    "def build_n_gram(n, levels):\n",
    "    ngram = {}\n",
    "    \n",
    "    for columns in levels:\n",
    "        prior = []\n",
    "        for col in columns:\n",
    "            json_col = json.dumps(col)\n",
    "            if len(prior) == n - 1:\n",
    "                json_prior = json.dumps(prior)\n",
    "                \n",
    "                if json_prior not in ngram:\n",
    "                    ngram[json_prior] = {}\n",
    "                    ngram[json_prior][json_col] = 1\n",
    "                elif json_col not in ngram[json_prior]:\n",
    "                    ngram[json_prior][json_col] = 1\n",
    "                else:\n",
    "                    ngram[json_prior][json_col] += 1\n",
    "                \n",
    "                prior.pop(0)\n",
    "\n",
    "            prior.append(col)\n",
    "\n",
    "    return ngram\n",
    "\n",
    "n_grams = {}\n",
    "for n in range(min_n, max_n + 1):\n",
    "    n_gram_data = {}\n",
    "    \n",
    "    for game in Game:\n",
    "        n_gram_data[game] = build_n_gram(n, data[game])\n",
    "        \n",
    "    n_grams[n] = n_gram_data"
   ]
  },
  {
   "cell_type": "markdown",
   "metadata": {},
   "source": [
    "First, we look at the number of priors versus the number of outputs."
   ]
  },
  {
   "cell_type": "code",
   "execution_count": 10,
   "metadata": {},
   "outputs": [
    {
     "name": "stdout",
     "output_type": "stream",
     "text": [
      "n = 2\n",
      "                      Game  Prior Count  Number of Outputs  Number of Outputs / Prior\n",
      "       Game.SuperMarioBros          271               2908                  10.730627\n",
      "      Game.SuperMarioBros2          217               3289                  15.156682\n",
      " Game.SuperMarioBros2Japan          604               4497                   7.445364\n",
      "       Game.SuperMarioLand          631               2787                   4.416799\n",
      "            Game.KidIcarus          348               1249                   3.589080\n",
      "               Game.Custom          217                824                   3.797235 \n",
      "\n",
      "\n",
      "\n",
      "n = 3\n",
      "                      Game  Prior Count  Number of Outputs  Number of Outputs / Prior\n",
      "       Game.SuperMarioBros          681               2893                   4.248164\n",
      "      Game.SuperMarioBros2          575               3273                   5.692174\n",
      " Game.SuperMarioBros2Japan         1320               4475                   3.390152\n",
      "       Game.SuperMarioLand         1221               2778                   2.275184\n",
      "            Game.KidIcarus          649               1243                   1.915254\n",
      "               Game.Custom          391                809                   2.069054 \n",
      "\n",
      "\n",
      "\n",
      "n = 4\n",
      "                      Game  Prior Count  Number of Outputs  Number of Outputs / Prior\n",
      "       Game.SuperMarioBros         1054               2878                   2.730550\n",
      "      Game.SuperMarioBros2          942               3257                   3.457537\n",
      " Game.SuperMarioBros2Japan         1935               4453                   2.301292\n",
      "       Game.SuperMarioLand         1617               2769                   1.712430\n",
      "            Game.KidIcarus          814               1237                   1.519656\n",
      "               Game.Custom          491                794                   1.617108 \n",
      "\n",
      "\n",
      "\n",
      "n = 5\n",
      "                      Game  Prior Count  Number of Outputs  Number of Outputs / Prior\n",
      "       Game.SuperMarioBros         1370               2863                   2.089781\n",
      "      Game.SuperMarioBros2         1288               3241                   2.516304\n",
      " Game.SuperMarioBros2Japan         2452               4431                   1.807096\n",
      "       Game.SuperMarioLand         1896               2760                   1.455696\n",
      "            Game.KidIcarus          883               1231                   1.394111\n",
      "               Game.Custom          561                779                   1.388592 \n",
      "\n",
      "\n",
      "\n"
     ]
    }
   ],
   "source": [
    "def build_prior_and_num_outputs_df(n):\n",
    "    game_to_n_gram = n_grams[n]\n",
    "    rows = []\n",
    "    for game in game_to_n_gram:\n",
    "        n_gram = game_to_n_gram[game]\n",
    "        \n",
    "        priors = len(n_gram)\n",
    "        output_count = 0\n",
    "        for prior in n_gram:\n",
    "            for output in n_gram[prior]:\n",
    "                output_count += n_gram[prior][output]\n",
    "                \n",
    "        rows.append({\n",
    "            'Game': str(game), \n",
    "            'Prior Count': priors, \n",
    "            'Number of Outputs': output_count,\n",
    "            'Number of Outputs / Prior': output_count / priors})\n",
    "    \n",
    "    return pd.DataFrame(rows)\n",
    "\n",
    "prior_and_num_output_dfs = {}\n",
    "for n in n_grams:\n",
    "    print(f'n = {n}')\n",
    "    prior_and_num_output_dfs[n] = build_prior_and_num_outputs_df(n)\n",
    "    print(prior_and_num_output_dfs[n].to_string(index=False), '\\n\\n\\n')"
   ]
  },
  {
   "cell_type": "markdown",
   "metadata": {},
   "source": [
    "At n = 2 we have a min of 217 priors and a max of 604 priors. At n = 5 the min is 582 whereas the max is 2452. We expect to see the number of priors rise with an increase to n since the larger the prior the more unique it should be.\n",
    "\n",
    "We see that the numer of outputs reduces as n increases due to the dataset's size being less effective as n increases. We would need more data to make up for this. Lastly the ratio shows the number of outputs of the number of priors. We want this number to be high since it means that priors will have more associated data with it.\n",
    "\n",
    "Unfortunately, this ratio is misleading. It shows the average across all priors. It could be that one prior is associated with the majority of outputs and the rest only have one. "
   ]
  },
  {
   "cell_type": "code",
   "execution_count": 11,
   "metadata": {},
   "outputs": [
    {
     "name": "stdout",
     "output_type": "stream",
     "text": [
      "n = 2\n",
      "                      Game      Mean  Median  Mode  Min  Max       STD  Prios with 1 Output / Num Priors\n",
      "       Game.SuperMarioBros  2.512915     1.0     1    1   58  4.838234                          0.535055\n",
      "      Game.SuperMarioBros2  2.649770     1.0     1    1   47  4.752580                          0.585253\n",
      " Game.SuperMarioBros2Japan  2.192053     1.0     1    1   60  4.353145                          0.607616\n",
      "       Game.SuperMarioLand  1.941363     1.0     1    1   55  3.124676                          0.670365\n",
      "            Game.KidIcarus  1.882184     1.0     1    1   99  5.429318                          0.729885\n",
      "               Game.Custom  1.834101     1.0     1    1   24  2.304101                          0.654378 \n",
      "\n",
      "\n",
      "\n",
      "n = 3\n",
      "                      Game      Mean  Median  Mode  Min  Max       STD  Prios with 1 Output / Num Priors\n",
      "       Game.SuperMarioBros  1.547724     1.0     1    1   50  2.398206                          0.794420\n",
      "      Game.SuperMarioBros2  1.638261     1.0     1    1   43  2.620574                          0.782609\n",
      " Game.SuperMarioBros2Japan  1.470455     1.0     1    1   48  2.464728                          0.803030\n",
      "       Game.SuperMarioLand  1.329238     1.0     1    1   40  1.563728                          0.838657\n",
      "            Game.KidIcarus  1.263482     1.0     1    1   63  2.510976                          0.898305\n",
      "               Game.Custom  1.276215     1.0     1    1   14  0.940926                          0.831202 \n",
      "\n",
      "\n",
      "\n",
      "n = 4\n",
      "                      Game      Mean  Median  Mode  Min  Max       STD  Prios with 1 Output / Num Priors\n",
      "       Game.SuperMarioBros  1.301708     1.0     1    1   40  1.496377                          0.866224\n",
      "      Game.SuperMarioBros2  1.367304     1.0     1    1   39  1.777696                          0.859873\n",
      " Game.SuperMarioBros2Japan  1.271318     1.0     1    1   40  1.603703                          0.869251\n",
      "       Game.SuperMarioLand  1.176871     1.0     1    1   26  0.948721                          0.899196\n",
      "            Game.KidIcarus  1.092138     1.0     1    1    5  0.396684                          0.932432\n",
      "               Game.Custom  1.164969     1.0     1    1    7  0.584312                          0.890020 \n",
      "\n",
      "\n",
      "\n",
      "n = 5\n",
      "                      Game      Mean  Median  Mode  Min  Max       STD  Prios with 1 Output / Num Priors\n",
      "       Game.SuperMarioBros  1.200730     1.0     1    1   33  1.091373                          0.892701\n",
      "      Game.SuperMarioBros2  1.236801     1.0     1    1   31  1.221182                          0.892081\n",
      " Game.SuperMarioBros2Japan  1.184747     1.0     1    1   35  1.180198                          0.905791\n",
      "       Game.SuperMarioLand  1.104958     1.0     1    1   15  0.588261                          0.930380\n",
      "            Game.KidIcarus  1.046433     1.0     1    1    4  0.240555                          0.959230\n",
      "               Game.Custom  1.110517     1.0     1    1    5  0.432931                          0.918004 \n",
      "\n",
      "\n",
      "\n"
     ]
    }
   ],
   "source": [
    "def n_gram_prior_stats(n):\n",
    "    game_to_n_gram = n_grams[n]\n",
    "    rows = []\n",
    "    \n",
    "    for game in game_to_n_gram:\n",
    "        n_gram = game_to_n_gram[game]\n",
    "        outputs = []\n",
    "        \n",
    "        for prior in game_to_n_gram[game]:\n",
    "            outputs.append(len(n_gram[prior]))\n",
    "            \n",
    "        outputs = np.array(outputs)\n",
    "\n",
    "        data = {}\n",
    "        data['Game'] = str(game)\n",
    "        data['Mean'] = np.mean(outputs)\n",
    "        data['Median'] = np.median(outputs)\n",
    "        data['Mode'] = mode(outputs)[0][0]\n",
    "        data['Min'] = np.min(outputs)\n",
    "        data['Max'] = np.max(outputs)\n",
    "        data['STD'] = np.std(outputs)\n",
    "        data['Prios with 1 Output / Num Priors'] = np.count_nonzero(outputs == 1) / len(outputs)\n",
    "        rows.append(data)\n",
    "        \n",
    "    return pd.DataFrame(rows) \n",
    "\n",
    "for n in n_grams:\n",
    "    print(f'n = {n}')\n",
    "    print(n_gram_prior_stats(n).to_string(index=False), '\\n\\n\\n')"
   ]
  },
  {
   "cell_type": "markdown",
   "metadata": {},
   "source": [
    "What we're now looking at is a case by base basis for each prior. For example, at n = 2 for Super Mario Bros., we see that the average prior will have 2.51 potential outputs. This is good. It means that our dataset is not too heavily favoring priors to one output. We want to discourage this one to one formula since that means the n-gram is memorizing. More generally, a machine learning algorithm is not receiving enough input for the data. \n",
    "\n",
    "The average is deceptive for Super Mario Bros., though. Look at the median, mode, and max columns. They former two are 1 and the latter is 58. The mode tells us that the majority of our priors are only assocaited with a single output. The generation with an n-gram is guaranteed to follow one path. The generation will not be unique, it will be memorized. If the point of PCG is to generate new content, then our dataset is preventing us.\n",
    "\n",
    "Also note that we only looked at one example at n=2. Looking further you can see that the mode for every game is 1. Furthermore, the problem only gets worse as n is incremented. The larger the n, the smaller the input size and the more unique priors will be. As a result, we see the max number of outputs steadily decrease given a larger dataset. The question becomes, how can we solve this?\n",
    "\n",
    "We can come up with a simplification method. We take the levels and break them down into smaller bits. Already, we have taken levels from 2D platformers and turne them from matrices to an array of IDs which represent columns. We can simplify even further without losing information. Looking at the work from Shaker et al. [3], we can break columns into a set of patterns. In their work, they built a grammar that was then evolved. In our case we can can simplify the entire dataset of columns into categories:\n",
    "\n",
    "1. Linear\n",
    "2. Linear with enemy\n",
    "3. Platform forced\n",
    "4. Platform optional\n",
    "5. Platform optional enemy\n",
    "6. Platform forced enemy\n",
    "\n",
    "You'll notice that this set of categories does not work with *Kid Icarus*. As a result, it won't be used going forward but does show that games thare not 2d, linear platformers will need a different simplification."
   ]
  },
  {
   "cell_type": "code",
   "execution_count": 12,
   "metadata": {},
   "outputs": [],
   "source": [
    "Linear = 'l'\n",
    "LinearEnemy = 'le'\n",
    "PlatformForced = 'pf'\n",
    "PlatformOptional = 'po'\n",
    "PlatformOptionalEnemy = 'poe'\n",
    "PlatformForcedEnemy = 'pfe'"
   ]
  },
  {
   "cell_type": "code",
   "execution_count": 13,
   "metadata": {},
   "outputs": [],
   "source": [
    "def simplify_vglc(levels):\n",
    "    '''\n",
    "    VGLC levels used all have the assumption that the bottom will be a brick\n",
    "    or not. This is not a perfect simplification since you may argue that \n",
    "    somethinge like what is below would be not result in platform forced:\n",
    "\n",
    "    xxxxxxxxxxxx\n",
    "    ------------\n",
    "\n",
    "    This is a platform forced since it is above the base level. \n",
    "    '''\n",
    "    simplified_levels = []\n",
    "    for level in levels:\n",
    "        simplified_level = []\n",
    "        for col in level:\n",
    "            column_has_enemy = 'e' in [c.lower() for c in col]\n",
    "\n",
    "            if col[0] == '-' or (col[0].lower() == 'x' and col[1] != '-' and (col[1].lower() != 'e')):\n",
    "                if column_has_enemy:\n",
    "                    simplified_level.append(PlatformForcedEnemy)\n",
    "                else:\n",
    "                    simplified_level.append(PlatformForced)\n",
    "            else:\n",
    "                if all(tile == '-' or tile.lower() == 'e' for tile in col[1:]):\n",
    "                    if column_has_enemy:\n",
    "                        simplified_level.append(LinearEnemy)\n",
    "                    else:\n",
    "                        simplified_level.append(Linear)\n",
    "                else:\n",
    "                    if column_has_enemy:\n",
    "                        simplified_level.append(PlatformOptionalEnemy)\n",
    "                    else:\n",
    "                        simplified_level.append(PlatformOptional)\n",
    "\n",
    "        simplified_levels.append(simplified_level)\n",
    "\n",
    "    return simplified_levels"
   ]
  },
  {
   "cell_type": "code",
   "execution_count": 14,
   "metadata": {},
   "outputs": [],
   "source": [
    "def simplify_custom(levels):\n",
    "    '''\n",
    "    custom levels have different tiles and the base ground level is at index 39.\n",
    "    '''\n",
    "    simplified_levels = []\n",
    "    enemies = ['A', 'B', 'C', 'D']\n",
    "\n",
    "    for level in levels:\n",
    "        simplified_level = []\n",
    "        for col in level:\n",
    "            column_has_enemy = False\n",
    "            col_1_is_enemy = False\n",
    "\n",
    "            for enemy in enemies:\n",
    "                column_has_enemy &= enemy in col\n",
    "                col_1_is_enemy |= col[1] == enemy\n",
    "\n",
    "            if col[39] == ' ' or (col[39] == 'b' and col[1] != ' ' and not col_1_is_enemy):\n",
    "                if column_has_enemy:\n",
    "                    simplified_level.append(PlatformForcedEnemy)\n",
    "                else:\n",
    "                    simplified_level.append(PlatformForced)\n",
    "            else:\n",
    "                spliced_column = col[:39] + col[:38] # removes the base column\n",
    "                if all((tile == ' ' or tile == 's' or tile == '$' or tile in enemies) for tile in spliced_column):\n",
    "                    if column_has_enemy:\n",
    "                        simplified_level.append(LinearEnemy)\n",
    "                    else:\n",
    "                        simplified_level.append(Linear)\n",
    "                else:\n",
    "                    if column_has_enemy:\n",
    "                        simplified_level.append(PlatformOptionalEnemy)\n",
    "                    else:\n",
    "                        simplified_level.append(PlatformOptional)\n",
    "\n",
    "        simplified_levels.append(simplified_level)\n",
    "\n",
    "    return simplified_levels"
   ]
  },
  {
   "cell_type": "code",
   "execution_count": 15,
   "metadata": {},
   "outputs": [],
   "source": [
    "simplified_data = {}\n",
    "simplified_data[Game.SuperMarioBros] = simplify_vglc(data[Game.SuperMarioBros])\n",
    "simplified_data[Game.SuperMarioBros2Japan] = simplify_vglc(data[Game.SuperMarioBros2Japan])\n",
    "simplified_data[Game.SuperMarioLand] = simplify_vglc(data[Game.SuperMarioLand])\n",
    "simplified_data[Game.Custom] = simplify_custom(data[Game.Custom])"
   ]
  },
  {
   "cell_type": "code",
   "execution_count": 16,
   "metadata": {},
   "outputs": [],
   "source": [
    "n_grams = {}\n",
    "for n in range(min_n, max_n + 1):\n",
    "    n_gram_data = {}\n",
    "    \n",
    "    for game in simplified_data:\n",
    "        n_gram_data[game] = build_n_gram(n, simplified_data[game])\n",
    "        \n",
    "    n_grams[n] = n_gram_data"
   ]
  },
  {
   "cell_type": "code",
   "execution_count": 17,
   "metadata": {},
   "outputs": [
    {
     "name": "stdout",
     "output_type": "stream",
     "text": [
      "n = 2\n",
      "                      Game  Prior Count  Number of Outputs  Number of Outputs / Prior\n",
      "       Game.SuperMarioBros            6               2908                 484.666667\n",
      " Game.SuperMarioBros2Japan            6               4497                 749.500000\n",
      "       Game.SuperMarioLand            6               2787                 464.500000\n",
      "               Game.Custom            3                824                 274.666667 \n",
      "\n",
      "\n",
      "\n",
      "n = 3\n",
      "                      Game  Prior Count  Number of Outputs  Number of Outputs / Prior\n",
      "       Game.SuperMarioBros           31               2893                  93.322581\n",
      " Game.SuperMarioBros2Japan           34               4475                 131.617647\n",
      "       Game.SuperMarioLand           29               2778                  95.793103\n",
      "               Game.Custom            9                809                  89.888889 \n",
      "\n",
      "\n",
      "\n",
      "n = 4\n",
      "                      Game  Prior Count  Number of Outputs  Number of Outputs / Prior\n",
      "       Game.SuperMarioBros          104               2878                  27.673077\n",
      " Game.SuperMarioBros2Japan          109               4453                  40.853211\n",
      "       Game.SuperMarioLand           78               2769                  35.500000\n",
      "               Game.Custom           24                794                  33.083333 \n",
      "\n",
      "\n",
      "\n",
      "n = 5\n",
      "                      Game  Prior Count  Number of Outputs  Number of Outputs / Prior\n",
      "       Game.SuperMarioBros          248               2863                  11.544355\n",
      " Game.SuperMarioBros2Japan          257               4431                  17.241245\n",
      "       Game.SuperMarioLand          159               2760                  17.358491\n",
      "               Game.Custom           45                779                  17.311111 \n",
      "\n",
      "\n",
      "\n"
     ]
    }
   ],
   "source": [
    "prior_and_num_output_dfs = {}\n",
    "for n in n_grams:\n",
    "    print(f'n = {n}')\n",
    "    prior_and_num_output_dfs[n] = build_prior_and_num_outputs_df(n)\n",
    "    print(prior_and_num_output_dfs[n].to_string(index=False), '\\n\\n\\n')"
   ]
  },
  {
   "cell_type": "markdown",
   "metadata": {},
   "source": [
    "text here"
   ]
  },
  {
   "cell_type": "code",
   "execution_count": 18,
   "metadata": {},
   "outputs": [
    {
     "name": "stdout",
     "output_type": "stream",
     "text": [
      "n = 2\n",
      "                      Game      Mean  Median  Mode  Min  Max       STD  Prios with 1 Output / Num Priors\n",
      "       Game.SuperMarioBros  5.166667     5.5     6    3    6  1.067187                               0.0\n",
      " Game.SuperMarioBros2Japan  5.666667     6.0     6    5    6  0.471405                               0.0\n",
      "       Game.SuperMarioLand  4.833333     5.0     5    3    6  1.067187                               0.0\n",
      "               Game.Custom  3.000000     3.0     3    3    3  0.000000                               0.0 \n",
      "\n",
      "\n",
      "\n",
      "n = 3\n",
      "                      Game      Mean  Median  Mode  Min  Max       STD  Prios with 1 Output / Num Priors\n",
      "       Game.SuperMarioBros  3.354839     3.0     3    1    6  1.492960                          0.161290\n",
      " Game.SuperMarioBros2Japan  3.205882     3.0     2    1    6  1.548802                          0.147059\n",
      "       Game.SuperMarioLand  2.689655     2.0     2    1    6  1.440868                          0.241379\n",
      "               Game.Custom  2.666667     3.0     3    1    3  0.666667                          0.111111 \n",
      "\n",
      "\n",
      "\n",
      "n = 4\n",
      "                      Game      Mean  Median  Mode  Min  Max       STD  Prios with 1 Output / Num Priors\n",
      "       Game.SuperMarioBros  2.384615     2.0     1    1    6  1.395788                          0.394231\n",
      " Game.SuperMarioBros2Japan  2.357798     2.0     1    1    6  1.358108                          0.339450\n",
      "       Game.SuperMarioLand  2.038462     2.0     1    1    6  1.181506                          0.410256\n",
      "               Game.Custom  1.875000     2.0     1    1    3  0.880932                          0.458333 \n",
      "\n",
      "\n",
      "\n",
      "n = 5\n",
      "                      Game      Mean  Median  Mode  Min  Max       STD  Prios with 1 Output / Num Priors\n",
      "       Game.SuperMarioBros  1.826613     1.0     1    1    6  1.113597                          0.544355\n",
      " Game.SuperMarioBros2Japan  1.735409     1.0     1    1    6  1.115870                          0.595331\n",
      "       Game.SuperMarioLand  1.553459     1.0     1    1    6  0.949331                          0.666667\n",
      "               Game.Custom  1.644444     1.0     1    1    3  0.820719                          0.577778 \n",
      "\n",
      "\n",
      "\n"
     ]
    }
   ],
   "source": [
    "for n in n_grams:\n",
    "    print(f'n = {n}')\n",
    "    print(n_gram_prior_stats(n).to_string(index=False), '\\n\\n\\n')"
   ]
  },
  {
   "cell_type": "markdown",
   "metadata": {},
   "source": [
    "text here"
   ]
  },
  {
   "cell_type": "markdown",
   "metadata": {},
   "source": [
    "### Sources\n",
    "\n",
    "1. Summerville, A. J., Snodgrass, S., Mateas, M., & Ontanón, S. (2016). The vglc: The video game level corpus. arXiv preprint arXiv:1606.07487.\n",
    "2. Dahlskog, S., Togelius, J., & Nelson, M. J. (2014, November). Linear levels through n-grams. In Proceedings of the 18th International Academic MindTrek Conference: Media Business, Management, Content & Services (pp. 200-206).\n",
    "3. Shaker, N., Nicolau, M., Yannakakis, G. N., Togelius, J., & O'neill, M. (2012, September). Evolving levels for super mario bros using grammatical evolution. In 2012 IEEE Conference on Computational Intelligence and Games (CIG) (pp. 304-311). IEEE."
   ]
  }
 ],
 "metadata": {
  "kernelspec": {
   "display_name": "Python 3",
   "language": "python",
   "name": "python3"
  },
  "language_info": {
   "codemirror_mode": {
    "name": "ipython",
    "version": 3
   },
   "file_extension": ".py",
   "mimetype": "text/x-python",
   "name": "python",
   "nbconvert_exporter": "python",
   "pygments_lexer": "ipython3",
   "version": "3.7.7"
  }
 },
 "nbformat": 4,
 "nbformat_minor": 4
}

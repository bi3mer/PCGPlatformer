{
 "cells": [
  {
   "cell_type": "markdown",
   "metadata": {},
   "source": [
    "This notebook is going to take you through an analysis of platformer games in the VGLC as well as a custom dataset made for another game. Before going through the details, we are going to read everything in. Each platformer will be read into a [n-gram](https://en.wikipedia.org/wiki/N-gram)."
   ]
  },
  {
   "cell_type": "code",
   "execution_count": 1,
   "metadata": {},
   "outputs": [],
   "source": [
    "%matplotlib inline\n",
    "from scipy.stats import mode\n",
    "from pathlib import Path\n",
    "from enum import Enum\n",
    "\n",
    "import matplotlib.pyplot as plt\n",
    "import pandas as pd\n",
    "import numpy as np\n",
    "import json\n",
    "import os"
   ]
  },
  {
   "cell_type": "markdown",
   "metadata": {},
   "source": [
    "We have two cases. The first is the custom format which is a json array. The second is the VGLC format which is a text file, very similar to a JSON array. For both we read htem in and return the contents of the files."
   ]
  },
  {
   "cell_type": "code",
   "execution_count": 2,
   "metadata": {},
   "outputs": [],
   "source": [
    "def read_json(file_path):\n",
    "    f = open(file_path)\n",
    "    content = f.read()\n",
    "    f.close()\n",
    "    \n",
    "    level_matrix = json.loads(content)\n",
    "    columns = [[] for i in range(len(level_matrix[0]))]\n",
    "\n",
    "    for row in level_matrix:\n",
    "        for i in range(len(row)):\n",
    "            columns[i].append(row[i])\n",
    "\n",
    "    return columns"
   ]
  },
  {
   "cell_type": "code",
   "execution_count": 3,
   "metadata": {},
   "outputs": [],
   "source": [
    "def read_txt(file_path, vertical):\n",
    "    f = open(file_path)\n",
    "    lines = f.readlines()\n",
    "    f.close()\n",
    "    \n",
    "    if vertical:\n",
    "        columns = []\n",
    "        for line in reversed(lines):\n",
    "            columns.append(list(line.strip()))\n",
    "    else:\n",
    "        columns = [[] for _ in range(len(lines[0]) - 1)]\n",
    "        for line in lines:\n",
    "            line = line.strip()\n",
    "            for columnIndex in range(len(line)):\n",
    "                columns[columnIndex].insert(0, line[columnIndex])\n",
    "            \n",
    "    return columns"
   ]
  },
  {
   "cell_type": "code",
   "execution_count": 4,
   "metadata": {},
   "outputs": [],
   "source": [
    "def get_file_contents(path, vertical=False, json=False):\n",
    "    file_contents = []\n",
    "    for file_name in os.listdir(path):\n",
    "        # meta is a special case for custom game which is in Unity.\n",
    "        if 'meta' in file_name:\n",
    "            continue\n",
    "        \n",
    "        file_path = os.path.join(path, file_name)\n",
    "        if os.path.isdir(file_path):\n",
    "            continue\n",
    "        \n",
    "        if json:\n",
    "            file_contents.append(read_json(file_path))\n",
    "        else:\n",
    "            file_contents.append(read_txt(file_path, vertical))\n",
    "    \n",
    "    return file_contents"
   ]
  },
  {
   "cell_type": "markdown",
   "metadata": {},
   "source": [
    "I have the [VGLC](https://github.com/TheVGLC/TheVGLC) stored in `~/data/TheVGLC`. If you have it somewhere else then you will need to modify this function. Also note that there is a vertical flag since the [Kid Icarus levels are in a vertical format](https://github.com/TheVGLC/TheVGLC/blob/master/Kid%20Icarus/Processed/kidicarus_1.txt)."
   ]
  },
  {
   "cell_type": "code",
   "execution_count": 5,
   "metadata": {},
   "outputs": [],
   "source": [
    "def get_vglc_path(game_name):\n",
    "    return os.path.join(Path.home(), 'data', 'TheVGLC', game_name, 'Processed')"
   ]
  },
  {
   "cell_type": "code",
   "execution_count": 6,
   "metadata": {},
   "outputs": [],
   "source": [
    "class Game(Enum):\n",
    "    SuperMarioBros = 0\n",
    "    SuperMarioBros2 = 1\n",
    "    SuperMarioBros2Japan = 2\n",
    "    SuperMarioLand = 3\n",
    "    KidIcarus = 4\n",
    "    Custom = 5"
   ]
  },
  {
   "cell_type": "code",
   "execution_count": 7,
   "metadata": {},
   "outputs": [],
   "source": [
    "data = {}\n",
    "data[Game.SuperMarioBros] = get_file_contents(get_vglc_path(\"Super Mario Bros\"))\n",
    "data[Game.SuperMarioBros2Japan] = get_file_contents(get_vglc_path(\"Super Mario Bros 2 (Japan)\"))\n",
    "data[Game.SuperMarioLand] = get_file_contents(get_vglc_path(\"Super Mario Land\"))\n",
    "data[Game.KidIcarus] = get_file_contents(get_vglc_path(\"Kid Icarus\"), vertical=True)\n",
    "data[Game.Custom] = get_file_contents(os.path.join('..', 'Assets', 'Resources', 'Levels'), json=True)\n",
    "\n",
    "path = os.path.join(get_vglc_path(\"Super Mario Bros 2\"), 'WithEnemies')\n",
    "data[Game.SuperMarioBros2] = get_file_contents(path)"
   ]
  },
  {
   "cell_type": "markdown",
   "metadata": {},
   "source": [
    "Now that we have loaded in all the games we are going to build them into n-grams. We'll do n-grams of 2 to 5."
   ]
  },
  {
   "cell_type": "code",
   "execution_count": 8,
   "metadata": {},
   "outputs": [],
   "source": [
    "min_n = 2\n",
    "max_n = 5"
   ]
  },
  {
   "cell_type": "markdown",
   "metadata": {},
   "source": [
    "This function receives the levels we just built above and an n to build a n-gram."
   ]
  },
  {
   "cell_type": "code",
   "execution_count": 9,
   "metadata": {},
   "outputs": [],
   "source": [
    "def build_n_gram(n, levels):\n",
    "    ngram = {}\n",
    "    \n",
    "    for columns in levels:\n",
    "        prior = []\n",
    "        for col in columns:\n",
    "            json_col = json.dumps(col)\n",
    "            if len(prior) == n - 1:\n",
    "                json_prior = json.dumps(prior)\n",
    "                \n",
    "                if json_prior not in ngram:\n",
    "                    ngram[json_prior] = {}\n",
    "                    ngram[json_prior][json_col] = 1\n",
    "                elif json_col not in ngram[json_prior]:\n",
    "                    ngram[json_prior][json_col] = 1\n",
    "                else:\n",
    "                    ngram[json_prior][json_col] += 1\n",
    "                \n",
    "                prior.pop(0)\n",
    "\n",
    "            prior.append(col)\n",
    "\n",
    "    return ngram"
   ]
  },
  {
   "cell_type": "code",
   "execution_count": 10,
   "metadata": {},
   "outputs": [],
   "source": [
    "n_grams = {}\n",
    "for n in range(min_n, max_n + 1):\n",
    "    n_gram_data = {}\n",
    "    \n",
    "    for game in Game:\n",
    "        n_gram_data[game] = build_n_gram(n, data[game])\n",
    "        \n",
    "    n_grams[n] = n_gram_data"
   ]
  },
  {
   "cell_type": "markdown",
   "metadata": {},
   "source": [
    "The first exploratory analysis we'll do is look at the number of priors versus the number of outputs."
   ]
  },
  {
   "cell_type": "code",
   "execution_count": 11,
   "metadata": {},
   "outputs": [],
   "source": [
    "def build_prior_and_num_outputs_df(n):\n",
    "    game_to_n_gram = n_grams[n]\n",
    "    rows = []\n",
    "    for game in game_to_n_gram:\n",
    "        n_gram = game_to_n_gram[game]\n",
    "        \n",
    "        priors = len(n_gram)\n",
    "        output_count = 0\n",
    "        for prior in n_gram:\n",
    "            for output in n_gram[prior]:\n",
    "                output_count += n_gram[prior][output]\n",
    "                \n",
    "        rows.append({\n",
    "            'Game': str(game), \n",
    "            'Prior Count': priors, \n",
    "            'Number of Outputs': output_count,\n",
    "            'Number of Outputs / Prior': output_count / priors})\n",
    "    \n",
    "    return pd.DataFrame(rows)"
   ]
  },
  {
   "cell_type": "code",
   "execution_count": 12,
   "metadata": {},
   "outputs": [
    {
     "name": "stdout",
     "output_type": "stream",
     "text": [
      "n = 2\n",
      "                      Game  Prior Count  Number of Outputs  Number of Outputs / Prior\n",
      "       Game.SuperMarioBros          271               2908                  10.730627\n",
      "      Game.SuperMarioBros2          217               3289                  15.156682\n",
      " Game.SuperMarioBros2Japan          604               4497                   7.445364\n",
      "       Game.SuperMarioLand          631               2787                   4.416799\n",
      "            Game.KidIcarus          348               1249                   3.589080\n",
      "               Game.Custom          226                852                   3.769912 \n",
      "\n",
      "\n",
      "\n",
      "n = 3\n",
      "                      Game  Prior Count  Number of Outputs  Number of Outputs / Prior\n",
      "       Game.SuperMarioBros          681               2893                   4.248164\n",
      "      Game.SuperMarioBros2          575               3273                   5.692174\n",
      " Game.SuperMarioBros2Japan         1320               4475                   3.390152\n",
      "       Game.SuperMarioLand         1221               2778                   2.275184\n",
      "            Game.KidIcarus          649               1243                   1.915254\n",
      "               Game.Custom          406                836                   2.059113 \n",
      "\n",
      "\n",
      "\n",
      "n = 4\n",
      "                      Game  Prior Count  Number of Outputs  Number of Outputs / Prior\n",
      "       Game.SuperMarioBros         1054               2878                   2.730550\n",
      "      Game.SuperMarioBros2          942               3257                   3.457537\n",
      " Game.SuperMarioBros2Japan         1935               4453                   2.301292\n",
      "       Game.SuperMarioLand         1617               2769                   1.712430\n",
      "            Game.KidIcarus          814               1237                   1.519656\n",
      "               Game.Custom          510                820                   1.607843 \n",
      "\n",
      "\n",
      "\n",
      "n = 5\n",
      "                      Game  Prior Count  Number of Outputs  Number of Outputs / Prior\n",
      "       Game.SuperMarioBros         1370               2863                   2.089781\n",
      "      Game.SuperMarioBros2         1288               3241                   2.516304\n",
      " Game.SuperMarioBros2Japan         2452               4431                   1.807096\n",
      "       Game.SuperMarioLand         1896               2760                   1.455696\n",
      "            Game.KidIcarus          883               1231                   1.394111\n",
      "               Game.Custom          582                804                   1.381443 \n",
      "\n",
      "\n",
      "\n"
     ]
    }
   ],
   "source": [
    "prior_and_num_output_dfs = {}\n",
    "for n in n_grams:\n",
    "    print(f'n = {n}')\n",
    "    prior_and_num_output_dfs[n] = build_prior_and_num_outputs_df(n)\n",
    "    print(prior_and_num_output_dfs[n].to_string(index=False), '\\n\\n\\n')"
   ]
  },
  {
   "cell_type": "markdown",
   "metadata": {},
   "source": [
    "These tables show that as n increases, so too does the number of priors. This fits our expectations since we expect fewer duplicates. This, in part, contributes to the problem of memorization. The number of outputs decreases as n increases as well because the effective dataset size decreases. The final column shows how many outputs there are per a prior. We know the value will always be greater than or equal to 1 and we expect and see that it goes lower as n increases. The problem with this ratio is that doesn't give a great view on a per ouput basis which we look at next. To do this we don't look at how many output occurrences exist for each prior but instead look at how many different potential outputs occur per a prior. "
   ]
  },
  {
   "cell_type": "code",
   "execution_count": 13,
   "metadata": {},
   "outputs": [],
   "source": [
    "def n_gram_prior_stats(n):\n",
    "    game_to_n_gram = n_grams[n]\n",
    "    rows = []\n",
    "    \n",
    "    for game in game_to_n_gram:\n",
    "        n_gram = game_to_n_gram[game]\n",
    "        outputs = []\n",
    "        \n",
    "        for prior in game_to_n_gram[game]:\n",
    "            outputs.append(len(n_gram[prior]))\n",
    "            \n",
    "        outputs = np.array(outputs)\n",
    "\n",
    "        data = {}\n",
    "        data['Game'] = str(game)\n",
    "        data['Mean'] = np.mean(outputs)\n",
    "        data['Median'] = np.median(outputs)\n",
    "        data['Mode'] = mode(outputs)[0][0]\n",
    "        data['Min'] = np.min(outputs)\n",
    "        data['Max'] = np.max(outputs)\n",
    "        data['STD'] = np.std(outputs)\n",
    "        data['Prios with 1 Output / Num Priors'] = np.count_nonzero(outputs == 1) / len(outputs)\n",
    "        rows.append(data)\n",
    "        \n",
    "    return pd.DataFrame(rows) "
   ]
  },
  {
   "cell_type": "code",
   "execution_count": 14,
   "metadata": {},
   "outputs": [
    {
     "name": "stdout",
     "output_type": "stream",
     "text": [
      "n = 2\n",
      "                      Game      Mean  Median  Mode  Min  Max       STD  Prios with 1 Output / Num Priors\n",
      "       Game.SuperMarioBros  2.512915     1.0     1    1   58  4.838234                          0.535055\n",
      "      Game.SuperMarioBros2  2.649770     1.0     1    1   47  4.752580                          0.585253\n",
      " Game.SuperMarioBros2Japan  2.192053     1.0     1    1   60  4.353145                          0.607616\n",
      "       Game.SuperMarioLand  1.941363     1.0     1    1   55  3.124676                          0.670365\n",
      "            Game.KidIcarus  1.882184     1.0     1    1   99  5.429318                          0.729885\n",
      "               Game.Custom  1.831858     1.0     1    1   24  2.300068                          0.663717 \n",
      "\n",
      "\n",
      "\n",
      "n = 3\n",
      "                      Game      Mean  Median  Mode  Min  Max       STD  Prios with 1 Output / Num Priors\n",
      "       Game.SuperMarioBros  1.547724     1.0     1    1   50  2.398206                          0.794420\n",
      "      Game.SuperMarioBros2  1.638261     1.0     1    1   43  2.620574                          0.782609\n",
      " Game.SuperMarioBros2Japan  1.470455     1.0     1    1   48  2.464728                          0.803030\n",
      "       Game.SuperMarioLand  1.329238     1.0     1    1   40  1.563728                          0.838657\n",
      "            Game.KidIcarus  1.263482     1.0     1    1   63  2.510976                          0.898305\n",
      "               Game.Custom  1.278325     1.0     1    1   14  0.954054                          0.834975 \n",
      "\n",
      "\n",
      "\n",
      "n = 4\n",
      "                      Game      Mean  Median  Mode  Min  Max       STD  Prios with 1 Output / Num Priors\n",
      "       Game.SuperMarioBros  1.301708     1.0     1    1   40  1.496377                          0.866224\n",
      "      Game.SuperMarioBros2  1.367304     1.0     1    1   39  1.777696                          0.859873\n",
      " Game.SuperMarioBros2Japan  1.271318     1.0     1    1   40  1.603703                          0.869251\n",
      "       Game.SuperMarioLand  1.176871     1.0     1    1   26  0.948721                          0.899196\n",
      "            Game.KidIcarus  1.092138     1.0     1    1    5  0.396684                          0.932432\n",
      "               Game.Custom  1.164706     1.0     1    1    7  0.587725                          0.892157 \n",
      "\n",
      "\n",
      "\n",
      "n = 5\n",
      "                      Game      Mean  Median  Mode  Min  Max       STD  Prios with 1 Output / Num Priors\n",
      "       Game.SuperMarioBros  1.200730     1.0     1    1   33  1.091373                          0.892701\n",
      "      Game.SuperMarioBros2  1.236801     1.0     1    1   31  1.221182                          0.892081\n",
      " Game.SuperMarioBros2Japan  1.184747     1.0     1    1   35  1.180198                          0.905791\n",
      "       Game.SuperMarioLand  1.104958     1.0     1    1   15  0.588261                          0.930380\n",
      "            Game.KidIcarus  1.046433     1.0     1    1    4  0.240555                          0.959230\n",
      "               Game.Custom  1.109966     1.0     1    1    5  0.432690                          0.919244 \n",
      "\n",
      "\n",
      "\n"
     ]
    }
   ],
   "source": [
    "for n in n_grams:\n",
    "    print(f'n = {n}')\n",
    "    print(n_gram_prior_stats(n).to_string(index=False), '\\n\\n\\n')"
   ]
  },
  {
   "cell_type": "markdown",
   "metadata": {},
   "source": [
    "First and unsuprisingly, we see the max number of outputs, standard deviation, and mean decrease as n increases. The next thing to note is that the median and mode for every game, for every size of n is 1. This alone shows that there exists a problem since the majority of priors will always return the same output. We can learn even more about this by looking at the last column which shows that, even at n=2, *Super Mario Bros.* has 53% of its priors with only a single output. These tables point to a serious problem in game level datasets. If we want to ML algorithms to generate a diverse set of levels than we need datasets that allow it."
   ]
  }
 ],
 "metadata": {
  "kernelspec": {
   "display_name": "Python 3",
   "language": "python",
   "name": "python3"
  },
  "language_info": {
   "codemirror_mode": {
    "name": "ipython",
    "version": 3
   },
   "file_extension": ".py",
   "mimetype": "text/x-python",
   "name": "python",
   "nbconvert_exporter": "python",
   "pygments_lexer": "ipython3",
   "version": "3.7.7"
  }
 },
 "nbformat": 4,
 "nbformat_minor": 4
}
